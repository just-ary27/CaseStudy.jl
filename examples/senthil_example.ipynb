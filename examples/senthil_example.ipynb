{
 "cells": [
  {
   "cell_type": "markdown",
   "metadata": {},
   "source": [
    "# Reduced order model for a lithium ion cell with uniform reaction rate approximation"
   ]
  },
  {
   "attachments": {},
   "cell_type": "markdown",
   "metadata": {},
   "source": [
    "## Introduction\n",
    "This model considers a Li-ion cell connected to an external load in a circuit. We consider that that a 3-dimensional cylindrical cell can be opened up as a sheet of paper of negligible thickness, now also assume that no change in any physical quantity occurs along the width. This turn our 3D system to a 1D one. \n",
    "\n",
    "Now according to standard conventions let's assume that our cell consists of **3 regions**, the **-ve electrode**, **the separator** and the **+ve electrode**. Also assume that the cell has collectors at end of either electrode. We'll be having the standard reactions in the +ve and -ve electrodes as below:\n",
    "\n",
    "*-ve electrode:*\n",
    "\n",
    "<div align=center>LiC₆ → x.Li⁺ + Li₁₋ₓC₆ + x.e⁻</div>\n",
    "\n",
    "*+ve electrode:*\n",
    "\n",
    "<div align=center>x.Li⁺ + LiMO₂ + x.e⁻ → Li₁₊ₓMO₂</div>\n",
    "\n",
    "With this our system should look like below.\n",
    "\n",
    "<div align=center><img src=\"../assets/senthil/li_cell.png\"></div>\n",
    "\n",
    "Assume that we have `x = 0` at the -ve electrode and `x = L` at the +ve electrode, L being the cell length. Length of the regions from left to right being lₙ, lₛ and lₚ respectively."
   ]
  },
  {
   "attachments": {},
   "cell_type": "markdown",
   "metadata": {},
   "source": [
    "## Importing necessary libraries\n",
    "To get started import the CaseStudy's senthil model (as sm for convinence) as that's the model which we're simulating. Also import Gadfly as that's the plotting library we're gonna use. To see the model constants [check here.](../src/senthil/constants/constants.jl)"
   ]
  },
  {
   "cell_type": "code",
   "execution_count": 1,
   "metadata": {},
   "outputs": [],
   "source": [
    "import LiionBatteryModels.SenthilModel as sm\n",
    "using Gadfly\n",
    "\n",
    "set_default_plot_size(800px, 600px)"
   ]
  },
  {
   "attachments": {},
   "cell_type": "markdown",
   "metadata": {},
   "source": [
    "## Cell Voltage for different cases\n",
    "In this example we'll be showing the cases of *constant current* and *discrete time-series current*. The first describes all the internal model variables also while the latter just shows you how to calculate the voltage through the necessary steps.\n",
    "\n",
    "Essentially you can need to get values of 4 variables q₂ᵢₖ, c₂ᵢₖ, c₁ₖ and c₁ₖᵣ to calculate any cell variable (including the cell voltage) for a given current and time interval.\n",
    "\n",
    "### Constant current case\n",
    "In this case we'll be taking a current of 1C or 13.5mA over a time range of 3400s with intervals of 1s."
   ]
  },
  {
   "cell_type": "code",
   "execution_count": 2,
   "metadata": {},
   "outputs": [
    {
     "data": {
      "text/plain": [
       "1"
      ]
     },
     "metadata": {},
     "output_type": "display_data"
    }
   ],
   "source": [
    "I = 13.5\n",
    "t = Float64.(0:1:3400)\n",
    "tspan = 1"
   ]
  },
  {
   "attachments": {},
   "cell_type": "markdown",
   "metadata": {},
   "source": [
    "#### Calculation of Interfacial Flux (q₂ᵢₖ)\n",
    "The interfacial concentrations q₂ᵢₙ and q₂ᵢₚ (in -ve and +ve electodes respectively) are calculated by solving the ODE obtained after profile approximations with initial values of 0, 0. The results are also plotted."
   ]
  },
  {
   "cell_type": "code",
   "execution_count": 3,
   "metadata": {},
   "outputs": [],
   "source": [
    "\n",
    "q₂ᵢₖ = sm.InterfacialFlux(t, tspan, I)\n",
    "\n",
    "\n",
    "plot(\n",
    "    layer(x=t, y=q₂ᵢₖ.q₂ᵢₙ, Geom.line, color=[colorant\"orange\"]),\n",
    "    layer(x=t, y=q₂ᵢₖ.q₂ᵢₚ, Geom.line, color=[colorant\"lightblue\"]),\n",
    "    Guide.title(\"Variation of Interfacial Flux in Electrodes\"),\n",
    "    Guide.xlabel(\"Time (in s)\"),\n",
    "    Guide.ylabel(\"q₂ᵢₖ\"),\n",
    "    # Guide.manual_color_key(\n",
    "    #     \"Legend\", \n",
    "    #     [\n",
    "    #         \"Interfacial flux in -ve electode: q₂ᵢₙ\", \n",
    "    #         \"Interfacial flux in +ve electode: q₂ᵢₚ\"\n",
    "    #     ], \n",
    "    #     [\"orange\", \"lightblue\"]\n",
    "    # )\n",
    ")"
   ]
  },
  {
   "attachments": {},
   "cell_type": "markdown",
   "metadata": {},
   "source": [
    "#### Calculation of Interfacial Concentration (c₂ᵢₖ)\n",
    "Having calculated q₂ᵢₖ, we can calulate c₂ᵢₙ and c₂ᵢₚ via a set of linear algeabric equations. The results are plotted."
   ]
  },
  {
   "cell_type": "code",
   "execution_count": null,
   "metadata": {},
   "outputs": [],
   "source": [
    "c₂ᵢₖ = sm.InterfacialConc(q₂ᵢₖ)\n",
    "\n",
    "\n",
    "plot(\n",
    "    layer(x=t, y=c₂ᵢₖ.c₂ᵢₙ, Geom.line, color=[colorant\"orange\"]),\n",
    "    layer(x=t, y=c₂ᵢₖ.c₂ᵢₚ, Geom.line, color=[colorant\"lightblue\"]),\n",
    "    Guide.title(\"Variation of interfacial concentration in electrodes\"),\n",
    "    Guide.xlabel(\"Time (in s)\"),\n",
    "    Guide.ylabel(\"c₂ᵢₖ\"),\n",
    "    # Guide.manual_color_key(\n",
    "    #     \"Legend\", \n",
    "    #     [\n",
    "    #         \"Interfacial concentration in -ve electode: q₂ᵢₙ\", \n",
    "    #         \"Interfacial concentration in +ve electode: q₂ᵢₚ\"\n",
    "    #     ], \n",
    "    #     [\"orange\", \"blue\"]\n",
    "    # )\n",
    ")"
   ]
  },
  {
   "attachments": {},
   "cell_type": "markdown",
   "metadata": {},
   "source": [
    "#### Calculation of various electrolyte concentration profiles\n",
    "Having obtained q₂ᵢₖ and c₂ᵢₖ, we can plot the internal parameters like c₂₀ₜ, c₂ₘₜ and c₂ₗₜ, which are electrolyte concentrations at x = 0, lₙ + lₛ/2 and L respectively."
   ]
  },
  {
   "cell_type": "code",
   "execution_count": null,
   "metadata": {},
   "outputs": [],
   "source": [
    "c₂₀ₜ = sm.c₂₀ₜ(c₂ᵢₖ, q₂ᵢₖ)\n",
    "c₂ₘₜ = sm.c₂ₘₜ(c₂ᵢₖ, q₂ᵢₖ)\n",
    "c₂ₗₜ = sm.c₂ₗₜ(c₂ᵢₖ, q₂ᵢₖ)\n",
    "\n",
    "plot(\n",
    "    layer(x=t, y=c₂₀ₜ, Geom.line, color=[colorant\"orange\"]),\n",
    "    layer(x=t, y=c₂ₘₜ, Geom.line,color=[colorant\"green\"]),\n",
    "    layer(x=t, y=c₂ₗₜ, Geom.line,color=[colorant\"lightblue\"]),\n",
    "    Guide.title(\"Variation of electrolyte concentrations in electrodes\"),\n",
    "    Guide.xlabel(\"Time (in s)\"),\n",
    "    Guide.ylabel(\"Concentration\"),\n",
    "    # Guide.manual_color_key(\n",
    "    #     \"Legend\", \n",
    "    #     [\n",
    "    #         \"Solid concentration in -ve electode: q₂ᵢₙ\", \n",
    "    #         \"Solid concentration in +ve electode: q₂ᵢₚ\"\n",
    "    #     ], \n",
    "    #     [\"orange\", \"lightblue\"],\n",
    "    # )\n",
    ")"
   ]
  },
  {
   "attachments": {},
   "cell_type": "markdown",
   "metadata": {},
   "source": [
    "#### Calculation of Solid Concentration (c₁ₖ)"
   ]
  },
  {
   "cell_type": "code",
   "execution_count": null,
   "metadata": {},
   "outputs": [],
   "source": [
    "c₁ₖ = sm.SolidConcentration(t, tspan, I)\n",
    "\n",
    "plot(\n",
    "    layer(x=t, y=c₁ₖ.c₁ₙ, Geom.line, color=[colorant\"orange\"]),\n",
    "    layer(x=t, y=c₁ₖ.c₁ₚ, Geom.line),\n",
    "    Guide.title(\"Variation of solid concentration in electrodes\"),\n",
    "    Guide.xlabel(\"Time (in s)\"),\n",
    "    Guide.ylabel(\"c₁ₖ\"),\n",
    "    # Guide.manual_color_key(\n",
    "    #     \"Legend\", \n",
    "    #     [\n",
    "    #         \"Solid concentration in -ve electode: q₂ᵢₙ\", \n",
    "    #         \"Solid concentration in +ve electode: q₂ᵢₚ\"\n",
    "    #     ], \n",
    "    #     [\"orange\", \"blue\"]\n",
    "    # )\n",
    ")"
   ]
  },
  {
   "attachments": {},
   "cell_type": "markdown",
   "metadata": {},
   "source": [
    "#### Calculation of Solid Radial Concentration (c₁ₖᵣ)"
   ]
  },
  {
   "cell_type": "code",
   "execution_count": null,
   "metadata": {},
   "outputs": [],
   "source": [
    "c₁ₖᵣ = sm.SolidRadialConcentration(t, tspan, I)\n",
    "\n",
    "plot(\n",
    "    layer(x=t, y=c₁ₖᵣ.c₁ₙᵣ, Geom.line, color=[colorant\"orange\"]),\n",
    "    layer(x=t, y=c₁ₖᵣ.c₁ₚᵣ, Geom.line),\n",
    "    Guide.title(\"Variation of solid radial concentration in electrodes\"),\n",
    "    Guide.xlabel(\"Time (in s)\"),\n",
    "    Guide.ylabel(\"c₁ₖᵣ\"),\n",
    "    # Guide.manual_color_key(\n",
    "    #     \"Legend\", \n",
    "    #     [\n",
    "    #         \"Solid radial concentration in -ve electode: q₂ᵢₙ\", \n",
    "    #         \"solid radial concentration in +ve electode: q₂ᵢₚ\"\n",
    "    #     ], \n",
    "    #     [\"orange\", \"blue\"]\n",
    "    # size=Measure[]\n",
    "    # )\n",
    ")"
   ]
  },
  {
   "attachments": {},
   "cell_type": "markdown",
   "metadata": {},
   "source": [
    "#### Calculation of Cell Voltage (V)"
   ]
  },
  {
   "cell_type": "code",
   "execution_count": null,
   "metadata": {},
   "outputs": [],
   "source": [
    "V = sm.V(I, c₁ₖ, c₁ₖᵣ, c₂ᵢₖ, q₂ᵢₖ)\n",
    "\n",
    "plot(\n",
    "    layer(x=t, y=V, Geom.line, color=[colorant\"orange\"]),\n",
    "    Guide.title(\"Variation of Cell Voltage\"),\n",
    "    Guide.xlabel(\"Time (in s)\"),\n",
    "    Guide.ylabel(\"V\"),\n",
    ")"
   ]
  },
  {
   "attachments": {},
   "cell_type": "markdown",
   "metadata": {},
   "source": [
    "### Discrete time series current case\n",
    "In this we will be taking a discrete time series current over a period of 100 seconds with a interval of 10s."
   ]
  },
  {
   "cell_type": "code",
   "execution_count": null,
   "metadata": {},
   "outputs": [],
   "source": [
    "I_dst = Float64.([100, 100, 0, 0, 0, 0, -100, -100, 0, 0, 0])\n",
    "t_dst = Float64.(0 : 10: 100)\n",
    "tspan_dst = 10\n",
    "\n",
    "plot(\n",
    "    layer(x=t_dst, y=I_dst, Geom.line, color=[colorant\"orange\"]),\n",
    "    Guide.title(\"Variation of Current\"),\n",
    "    Guide.xlabel(\"Time (in s)\"),\n",
    "    Guide.ylabel(\"I\"),\n",
    ")"
   ]
  },
  {
   "cell_type": "code",
   "execution_count": null,
   "metadata": {},
   "outputs": [],
   "source": [
    "q₂ᵢₖ_dst = sm.InterfacialFlux(t_dst, tspan_dst, I_dst)"
   ]
  },
  {
   "cell_type": "code",
   "execution_count": null,
   "metadata": {},
   "outputs": [],
   "source": [
    "c₂ᵢₖ_dst = sm.InterfacialConc(q₂ᵢₖ_dst)"
   ]
  },
  {
   "cell_type": "code",
   "execution_count": null,
   "metadata": {},
   "outputs": [],
   "source": [
    "c₁ₖ_dst = sm.SolidConcentration(t_dst, tspan_dst, I_dst)"
   ]
  },
  {
   "cell_type": "code",
   "execution_count": null,
   "metadata": {},
   "outputs": [],
   "source": [
    "c₁ₖᵣ_dst = sm.SolidRadialConcentration(t_dst, tspan_dst, I_dst)"
   ]
  },
  {
   "cell_type": "code",
   "execution_count": null,
   "metadata": {},
   "outputs": [],
   "source": [
    "V = sm.V(I, c₁ₖ, c₁ₖᵣ, c₂ᵢₖ, q₂ᵢₖ)"
   ]
  }
 ],
 "metadata": {
  "kernelspec": {
   "display_name": "Julia 1.10.2",
   "language": "julia",
   "name": "julia-1.10"
  },
  "language_info": {
   "file_extension": ".jl",
   "mimetype": "application/julia",
   "name": "julia",
   "version": "1.10.2"
  }
 },
 "nbformat": 4,
 "nbformat_minor": 2
}
