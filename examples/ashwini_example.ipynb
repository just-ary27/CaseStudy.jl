{
 "cells": [
  {
   "attachments": {},
   "cell_type": "markdown",
   "metadata": {},
   "source": [
    "# A Closed Form Reduced Order Electrochemical Model for Lithium-Ion Cells"
   ]
  },
  {
   "cell_type": "code",
   "execution_count": 1,
   "metadata": {},
   "outputs": [],
   "source": [
    "import LiionBatteryModels.AshwiniModel as am \n",
    "using Gadfly\n",
    "\n",
    "Base.active_project()"
   ]
  },
  {
   "cell_type": "code",
   "execution_count": null,
   "metadata": {},
   "outputs": [],
   "source": [
    "I = 13.5\n",
    "t = Float64.(0:1:25000)\n",
    "tspan = 10"
   ]
  },
  {
   "cell_type": "code",
   "execution_count": null,
   "metadata": {},
   "outputs": [],
   "source": [
    "# Start model solving\n",
    "dₚ₁ᵢ = am.dₚ₁₀(I)\n",
    "dₙ₁ᵢ = am.dₙ₁₀(I)"
   ]
  },
  {
   "cell_type": "code",
   "execution_count": null,
   "metadata": {},
   "outputs": [],
   "source": [
    "# Reaction rates @x = 0, x = L\n",
    "jₙ = am.jₙ(0, dₙ₁ᵢ, dₚ₁ᵢ, I)\n",
    "jₚ = am.jₚ(0, dₙ₁ᵢ, dₚ₁ᵢ, I)"
   ]
  },
  {
   "cell_type": "code",
   "execution_count": null,
   "metadata": {},
   "outputs": [],
   "source": [
    "# Storing required time series of variables\n",
    "# c₂ᵢₙ = zeros(size(t)[1])\n",
    "# c₂ᵢₚ = zeros(size(t)[1])\n",
    "\n",
    "c₂̄ₙ = zeros(size(t)[1])\n",
    "c₂̄ₚ = zeros(size(t)[1])\n",
    "c₂̄ₛ = zeros(size(t)[1])\n",
    "\n",
    "c₂ₙ₀ = zeros(size(t)[1])\n",
    "c₂ₚₗ = zeros(size(t)[1])\n",
    "\n",
    "jₙ  = zeros(size(t)[1])\n",
    "jₚ = zeros(size(t)[1]);"
   ]
  },
  {
   "cell_type": "code",
   "execution_count": null,
   "metadata": {},
   "outputs": [],
   "source": [
    "c₂̄ₙ[1] = am.c₂₀\n",
    "c₂̄ₚ[1] = am.c₂₀\n",
    "c₂̄ₛ[1] = am.c₂₀\n",
    "\n",
    "c₂ₙ₀[1] = am.c₂₀\n",
    "c₂ₚₗ[1] = am.c₂₀\n",
    "\n",
    "jₙ[1] = am.jₙ(0, dₙ₁ᵢ, dₚ₁ᵢ, I)\n",
    "jₚ[1] = am.jₚ(am.L, dₙ₁ᵢ, dₚ₁ᵢ, I)"
   ]
  },
  {
   "cell_type": "code",
   "execution_count": null,
   "metadata": {},
   "outputs": [],
   "source": [
    "for i = 2:4\n",
    "    params = am.param_solver(I, tspan, c₂̄ₙ[i-1], c₂̄ₚ[i-1], c₂̄ₛ[i-1], c₂ₙ₀[i-1], c₂ₚₗ[i-1], jₙ[i-1], jₚ[i-1])\n",
    "\n",
    "    n0 = params[1]; n2 = params[3]; n3 = params[4];\n",
    "    p0 = params[5]; p2 = params[7]; p3 = params[8];\n",
    "    s0 = params[9]; s2 = params[10]; s3 = params[11];\n",
    "\n",
    "    c₂ₙ₀[i] = params[15];\n",
    "    c₂ₚₗ[i] = params[16];\n",
    "\n",
    "    println(params)\n",
    "end"
   ]
  }
 ],
 "metadata": {
  "kernelspec": {
   "display_name": "Julia 1.10.2",
   "language": "julia",
   "name": "julia-1.10"
  },
  "language_info": {
   "file_extension": ".jl",
   "mimetype": "application/julia",
   "name": "julia",
   "version": "1.10.2"
  },
  "orig_nbformat": 4
 },
 "nbformat": 4,
 "nbformat_minor": 2
}
